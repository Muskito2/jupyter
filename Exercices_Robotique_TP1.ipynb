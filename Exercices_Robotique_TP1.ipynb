{
 "cells": [
  {
   "cell_type": "markdown",
   "metadata": {},
   "source": [
    "# 🧪 TP – Vision Robotique (Python)\n",
    "### Cours : Robotique mobile – Perception et vision\n",
    "\n",
    "Ce notebook reprend **l’intégralité du TP** sous forme interactive :\n",
    "1. Capteurs simulés  \n",
    "2. Projection 3D→2D  \n",
    "3. Vision stéréo et profondeur  \n",
    "4. Détection de caractéristiques visuelles  \n",
    "\n",
    "Chaque section comprend :\n",
    "- un court rappel théorique ;\n",
    "- le code à compléter (`# TODO`) ;\n",
    "- et une cellule d’exécution pour visualiser les résultats."
   ]
  },
  {
   "cell_type": "code",
   "execution_count": null,
   "metadata": {},
   "outputs": [],
   "source": [
    "# Imports communs\n",
    "import numpy as np\n",
    "import matplotlib.pyplot as plt\n",
    "import cv2\n",
    "%matplotlib inline"
   ]
  },
  {
   "cell_type": "markdown",
   "metadata": {},
   "source": [
    "## 🧩 Partie 1 – Capteurs simulés\n",
    "Objectif : comprendre comment un robot mesure son environnement avec des **capteurs bruités** :\n",
    "- Capteur ultrasonique → distance + bruit gaussien  \n",
    "- Encodeur de roue → distance parcourue à partir des ticks"
   ]
  },
  {
   "cell_type": "code",
   "execution_count": null,
   "metadata": {},
   "outputs": [],
   "source": [
    "def distance_ultrasonique(x_robot, y_robot, x_objet, y_objet, sigma=0.02):\n",
    "    \"\"\"Calcule la distance mesurée par un capteur ultrasonique simulé.\"\"\"\n",
    "    # TODO : calculer la distance euclidienne puis ajouter un bruit gaussien\n",
    "    pass\n",
    "\n",
    "\n",
    "def position_encodeur(ticks, resolution, rayon):\n",
    "    \"\"\"Calcule la distance parcourue à partir d'un encodeur incrémental.\"\"\"\n",
    "    # TODO : distance = (2π * rayon) * (ticks / resolution)\n",
    "    pass"
   ]
  },
  {
   "cell_type": "code",
   "execution_count": null,
   "metadata": {},
   "outputs": [],
   "source": [
    "# 🔬 Test capteurs : distribution du bruit\n",
    "def test_sensors():\n",
    "    x_r, y_r = 0.0, 0.0\n",
    "    x_o, y_o = 1.5, 0.0\n",
    "    sigma = 0.02\n",
    "    mesures = [distance_ultrasonique(x_r, y_r, x_o, y_o, sigma) for _ in range(1000)]\n",
    "    plt.hist(mesures, bins=30, color='skyblue', edgecolor='black')\n",
    "    plt.title('Distribution du bruit du capteur ultrasonique')\n",
    "    plt.xlabel('Distance mesurée (m)')\n",
    "    plt.ylabel('Fréquence')\n",
    "    plt.show()\n",
    "\n",
    "    ticks = 512\n",
    "    d = position_encodeur(ticks, 1024, 0.03)\n",
    "    print(f\"Distance parcourue (encodeur) ≈ {d}\")\n",
    "\n",
    "test_sensors()"
   ]
  },
  {
   "cell_type": "markdown",
   "metadata": {},
   "source": [
    "## 🎯 Partie 2 – Projection 3D → 2D\n",
    "On simule le **modèle sténopé** :  \n",
    "$$u = f\\frac{X}{Z} + c_x, \\quad v = f\\frac{Y}{Z} + c_y$$  \n",
    "Objectifs :\n",
    "- Comprendre comment la focale influence la projection ;\n",
    "- Écrire une fonction de calibration simple."
   ]
  },
  {
   "cell_type": "code",
   "execution_count": null,
   "metadata": {},
   "outputs": [],
   "source": [
    "def projection_pinhole(X, Y, Z, f, cx, cy):\n",
    "    \"\"\"Projette un point 3D (X,Y,Z) sur le plan image (u,v).\"\"\"\n",
    "    # TODO : implémenter la projection perspective\n",
    "    pass\n",
    "\n",
    "\n",
    "def calibration_focale(points_reels, points_image):\n",
    "    \"\"\"Estime la focale f à partir de points connus (simplifié).\"\"\"\n",
    "    # TODO : calculer f moyen à partir de correspondances\n",
    "    pass"
   ]
  },
  {
   "cell_type": "code",
   "execution_count": null,
   "metadata": {},
   "outputs": [],
   "source": [
    "# 🔭 Test projection d'une grille 3D\n",
    "f = 800\n",
    "cx, cy = 320, 240\n",
    "X, Y = np.meshgrid(np.linspace(-1,1,10), np.linspace(-1,1,10))\n",
    "Z = np.ones_like(X)*2\n",
    "u = f*X/Z + cx\n",
    "v = f*Y/Z + cy\n",
    "plt.scatter(u,v,color='red')\n",
    "plt.title('Projection perspective d’une grille 3D')\n",
    "plt.xlabel('u (px)'); plt.ylabel('v (px)'); plt.gca().invert_yaxis(); plt.show()"
   ]
  }
 ],
 "metadata": {
  "kernelspec": {
   "display_name": "Python 3",
   "language": "python",
   "name": "python3"
  },
  "language_info": {
   "name": "python",
   "version": "3.x"
  }
 },
 "nbformat": 4,
 "nbformat_minor": 5
}
,
  {
   "cell_type": "markdown",
   "metadata": {},
   "source": [
    "## 🧭 Partie 3 – Vision stéréo et profondeur\n",
    "Deux caméras parallèles séparées d’une **baseline b** permettent d’estimer la profondeur d’un point :\n",
    "$$Z = \\frac{f\\,b}{d}$$\n",
    "où *d* est la disparité (différence de position horizontale entre les deux images)."
   ]
  },
  {
   "cell_type": "code",
   "execution_count": null,
   "metadata": {},
   "outputs": [],
   "source": [
    "def profondeur_stereo(f, b, disparite):\n",
    "    \"\"\"Calcule la profondeur à partir de la formule Z = f*b/disparite.\"\"\"\n",
    "    # TODO : implémenter la formule avec gestion du cas disparité = 0\n",
    "    pass\n",
    "\n",
    "def test_stereo_noise(f=800, b=0.1, d_mean=20, sigma=1.0, n_samples=200):\n",
    "    \"\"\"Simule des disparités bruitées et observe la dispersion des profondeurs.\"\"\"\n",
    "    # TODO : générer n_samples disparités ~ N(d_mean, sigma²)\n",
    "    # calculer les profondeurs correspondantes\n",
    "    pass"
   ]
  },
  {
   "cell_type": "code",
   "execution_count": null,
   "metadata": {},
   "outputs": [],
   "source": [
    "# 📊 Test vision stéréo avec bruit\n",
    "f, b, d_mean, sigma = 800, 0.1, 20, 1.0\n",
    "disparites = np.random.normal(d_mean, sigma, 300)\n",
    "Z = (f * b) / disparites\n",
    "plt.hist(Z, bins=30, color='salmon', edgecolor='black')\n",
    "plt.title('Propagation du bruit sur la profondeur stéréo')\n",
    "plt.xlabel('Profondeur (m)'); plt.ylabel('Fréquence'); plt.show()"
   ]
  },
  {
   "cell_type": "markdown",
   "metadata": {},
   "source": [
    "## 🔍 Partie 4 – Traitement d’image et détection de caractéristiques\n",
    "Dans cette section :\n",
    "- Détection de **bords** avec Sobel ;\n",
    "- Détection de **coins** (Harris / FAST) ;\n",
    "- **Appariement ORB** entre deux images stéréo synthétiques."
   ]
  },
  {
   "cell_type": "code",
   "execution_count": null,
   "metadata": {},
   "outputs": [],
   "source": [
    "def detection_bords(image_gray, sigma_blur=1.5):\n",
    "    \"\"\"Applique un flou gaussien puis un filtre Sobel pour détecter les bords.\"\"\"\n",
    "    # TODO : appliquer GaussianBlur, Sobel X/Y, magnitude, normalisation\n",
    "    pass\n",
    "\n",
    "def detection_coins(image_gray, method=\"HARRIS\"):\n",
    "    \"\"\"Détecte les coins d'une image (Harris ou FAST).\"\"\"\n",
    "    # TODO : implémenter Harris ou FAST et annoter l’image\n",
    "    pass\n",
    "\n",
    "def appariement_orb(img1, img2):\n",
    "    \"\"\"Utilise ORB pour apparier deux images.\"\"\"\n",
    "    # TODO : ORB_create, détecter/descripteurs, BFMatcher, drawMatches\n",
    "    pass"
   ]
  },
  {
   "cell_type": "code",
   "execution_count": null,
   "metadata": {},
   "outputs": [],
   "source": [
    "# 🧠 Test sur images synthétiques\n",
    "def generer_damier(taille=300, carre=40):\n",
    "    img = np.zeros((taille, taille), np.uint8)\n",
    "    for i in range(0, taille, carre):\n",
    "        for j in range(0, taille, carre):\n",
    "            if (i//carre + j//carre) % 2 == 0:\n",
    "                img[i:i+carre, j:j+carre] = 255\n",
    "    return img\n",
    "\n",
    "img = generer_damier()\n",
    "plt.imshow(img, cmap='gray'); plt.title('Image – Damier synthétique'); plt.axis('off'); plt.show()\n",
    "\n",
    "# TODO : appeler detection_bords(img), detection_coins(img), etc."
   ]
  },
  {
   "cell_type": "markdown",
   "metadata": {},
   "source": [
    "## 🧩 Exécution complète du TP\n",
    "Cette cellule regroupe les démonstrations principales, équivalentes au `main.py`.\n",
    "Vous pouvez l’exécuter après avoir rempli les `TODO` pour tester le TP complet."
   ]
  },
  {
   "cell_type": "code",
   "execution_count": null,
   "metadata": {},
   "outputs": [],
   "source": [
    "def demo_tp():\n",
    "    print(\"=== Démo TP – Vision Robotique ===\")\n",
    "\n",
    "    # --- Capteurs ---\n",
    "    print(\"\\n[1] Capteurs simulés\")\n",
    "    x_r, y_r, x_o, y_o, sigma = 0, 0, 1.5, 0, 0.02\n",
    "    mesures = [distance_ultrasonique(x_r,y_r,x_o,y_o,sigma) for _ in range(500)]\n",
    "    plt.hist(mesures,bins=30,color='skyblue'); plt.title('Bruit du capteur ultrasonique'); plt.show()\n",
    "\n",
    "    # --- Projection ---\n",
    "    print(\"\\n[2] Projection 3D → 2D\")\n",
    "    f, cx, cy = 800, 320, 240\n",
    "    X,Y=np.meshgrid(np.linspace(-1,1,10),np.linspace(-1,1,10)); Z=np.ones_like(X)*2\n",
    "    u=f*X/Z+cx; v=f*Y/Z+cy\n",
    "    plt.scatter(u,v,color='red'); plt.gca().invert_yaxis(); plt.title('Projection perspective'); plt.show()\n",
    "\n",
    "    # --- Stéréo ---\n",
    "    print(\"\\n[3] Vision stéréo\")\n",
    "    f,b,d_mean,sigma=800,0.1,20,1\n",
    "    disparites=np.random.normal(d_mean,sigma,300); Z=(f*b)/disparites\n",
    "    plt.hist(Z,bins=30,color='salmon'); plt.title('Distribution de profondeur'); plt.show()\n",
    "\n",
    "    # --- Features ---\n",
    "    print(\"\\n[4] Détection de caractéristiques\")\n",
    "    img=generer_damier()\n",
    "    plt.imshow(img,cmap='gray'); plt.axis('off'); plt.title('Image test'); plt.show()\n",
    "    print('⚙️  Appliquez vos fonctions detection_bords, detection_coins, appariement_orb ici.')\n",
    "\n",
    "demo_tp()"
   ]
  },
  {
   "cell_type": "markdown",
   "metadata": {},
   "source": [
    "---\n",
    "### ✅ Fin du notebook\n",
    "Vous pouvez désormais compléter les sections `# TODO`, exécuter les cellules et observer les résultats.\n",
    "\n",
    "Bonne expérimentation ! 🤖"
   ]
  }
 ]
}
